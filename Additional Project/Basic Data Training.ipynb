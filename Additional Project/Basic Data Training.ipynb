{
 "cells": [
  {
   "cell_type": "markdown",
   "metadata": {},
   "source": [
    "Basic Data Information"
   ]
  },
  {
   "cell_type": "code",
   "execution_count": null,
   "metadata": {},
   "outputs": [],
   "source": [
    "#Testing (Working!)\n",
    "test1_list = [1,2,3]\n",
    "test2_list = [4,5,6]\n",
    "test3_list = [7,8,9]\n",
    "test1 = list_to_array(test1_list)\n",
    "test2 = list_to_array(test2_list)\n",
    "test3 = list_to_array(test3_list)\n",
    "value = test1*test2 + test3\n",
    "\n",
    "#np.std, np.mean, manual\n",
    "test = np.array([3,4,5])\n",
    "value = np.mean(test)\n",
    "test2 = test - value\n",
    "test3 = test2**2\n",
    "test4 = np.sum(test3)\n",
    "test5 = test4/math.sqrt(len(test)-1)\n",
    "test6 = test5/math.sqrt(len(test))\n",
    "print(test6)\n",
    "std = np.std(test)\n",
    "print(std)"
   ]
  },
  {
   "cell_type": "code",
   "execution_count": null,
   "metadata": {},
   "outputs": [],
   "source": [
    "# Convert numpy array to list\n",
    "value = np.array([100,2,3])\n",
    "val_list = np.ndarray.tolist(value)\n",
    "print(value)\n",
    "print(type(value))\n",
    "print(val_list)\n",
    "print(type(val_list))\n",
    "# Convert list to numpy array\n",
    "value_test = [2,3,4]\n",
    "val = np.array(value_test)\n",
    "print(value_test)\n",
    "print(type(value_test))\n",
    "print(val)\n",
    "print(type(val))"
   ]
  },
  {
   "cell_type": "code",
   "execution_count": null,
   "metadata": {},
   "outputs": [],
   "source": [
    "a = [1,3], [2,3]\n",
    "a_list = list(a)\n",
    "a_list.append([4,5])\n",
    "\n",
    "print(a_list)\n",
    "a_new = tuple(a_list)\n",
    "print(a_new)\n",
    "\n",
    "\n",
    "a_table = pd.DataFrame(list(a_new))\n",
    "print(a_table)\n",
    "\n",
    "a_table_new = pd.DataFrame(a_list)\n",
    "print(a_table_new)"
   ]
  },
  {
   "cell_type": "code",
   "execution_count": null,
   "metadata": {},
   "outputs": [],
   "source": [
    "import pandas as pd\n",
    "outcome = pd.read_csv(\"sample_edit.csv\")\n",
    "#print(outcome)\n",
    "\n",
    "import input_to_sample\n",
    "#print(input_to_sample)\n",
    "\n",
    "import website_refer \n",
    "print(website_refer)\n",
    "\n",
    "# Construct a List to Pandas\n",
    "import pandas as pd\n",
    "import numpy as np\n",
    "\n",
    "test = [1,2,3]\n",
    "test2 = [4,5,6]\n",
    "df = pd.DataFrame({\"val\":test,\"yes\":test2})\n",
    "df[\"add_cons_0.3\"] = df[\"val\"] + 0.3\n",
    "df[\"add\"] = df[\"val\"] + df[\"yes\"]\n",
    "df[\"percent\"] = df[\"val\"]*0.8\n",
    "print(df)\n",
    "\n",
    "#df.to_csv(\"sample.csv\")\n",
    "\n",
    "import pandas as pd\n",
    "\n",
    "def intro_2(**data):\n",
    "  print(\"\\nData type of argument:\",type(data))\n",
    "\n",
    "  for key, value in data.items():\n",
    "    print(\"{} is {}\".format(key,value))\n",
    "  \n",
    "  return \"\"\n",
    "\n",
    "#print(intro_2(Test_1=\"Quantum\", Test_2 =\"EM\")) ## Working\n",
    "\n",
    "def intro(**data):\n",
    "  print(\"\\nData type of argument:\",type(data))\n",
    "\n",
    "  for key, value in data.items():\n",
    "    df = pd.DataFrame({key:value})\n",
    "\n",
    "  print(df)\n",
    "  return \"Lol\"\n",
    "\n",
    "\n",
    "#  for key, value in data.items():\n",
    "#    print(\"{} is {}\".format(key,value))\n",
    "\n",
    "print(intro(\"a\"=\"Quantum\", \"b\"=\"EM\"))"
   ]
  }
 ],
 "metadata": {
  "kernelspec": {
   "display_name": "Python 3",
   "language": "python",
   "name": "python3"
  },
  "language_info": {
   "codemirror_mode": {
    "name": "ipython",
    "version": 3
   },
   "file_extension": ".py",
   "mimetype": "text/x-python",
   "name": "python",
   "nbconvert_exporter": "python",
   "pygments_lexer": "ipython3",
   "version": "3.7.0"
  }
 },
 "nbformat": 4,
 "nbformat_minor": 2
}
