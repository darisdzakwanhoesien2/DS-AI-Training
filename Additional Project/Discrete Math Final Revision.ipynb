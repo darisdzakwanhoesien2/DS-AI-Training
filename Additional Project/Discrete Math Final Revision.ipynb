{
 "cells": [
  {
   "cell_type": "markdown",
   "metadata": {},
   "source": [
    "Lecture 9 : Graph Theory - Graph Coloring and Planar Graphs\n",
    "1. Simple Path\n",
    "2. Coloring Graphs\n",
    "3. Chromatic Graphs\n",
    "4. Bipartite Graph and the Characterisation\n",
    "5. Special Graph (Complete Bipartite Graph)\n",
    "6. Planar Graphs\n",
    "7. Non-Planar Graphs\n",
    "8. Checking Planarity\n",
    "9. Region\n",
    "10. Euler Formula\n",
    "11. Corollaries 1-4\n",
    "12. Optional (Homeomorphic and Kuratowski Theorem)\n",
    "13. Map Coloring Problem\n",
    "14. Four-Color Theorem"
   ]
  },
  {
   "cell_type": "markdown",
   "metadata": {},
   "source": [
    "Lecture 10 : Traversal of Trees, Spanning Trees\n",
    "1. Rooted Tree\n",
    "2. Properties (Leaves, Level, Height, Parent, Children, Ancestors, Descendents)\n",
    "3. Subtree\n",
    "4. Traversal of a Tree (Preorder, Inorder, Post-order)\n",
    "5. Tree Traversal Application\n",
    "6. Binary Tree\n",
    "7. Spanning Tree\n",
    "8. Edge-Weighted Graphs\n",
    "9. MST"
   ]
  },
  {
   "cell_type": "markdown",
   "metadata": {},
   "source": [
    "Lecture 11: Graph Theory - Minimum Spanning Trees, Shortest Paths\n",
    "1. Spanning Trees and MST\n",
    "2. Example\n",
    "3. Algorithms for MST : A Greedy Approach\n",
    "4. Kruskal Algorithm\n",
    "5. Prim's Algorithm\n",
    "6. Correctness of MST algorithms\n",
    "7. Cut and it's property (Theorem and it's Lemma)\n",
    "8. Safe Edges\n",
    "9. Correction (Kruskal and Prim's Algorithm)\n",
    "10. Shortest Paths and it's Problems\n",
    "11. Distances\n",
    "12. Single-Source Shortest Path"
   ]
  },
  {
   "cell_type": "markdown",
   "metadata": {},
   "source": [
    "Lecture 12 : Graph Theory - Shortest Paths Review\n",
    "1. Single-Source Shortest Path\n",
    "2. Algorithm Ideas\n",
    "3. Finding the ith Closest Vertex\n",
    "4. Algorithm and Examples\n",
    "5. More Efficient Implementation\n",
    "6. Djikstra's Algorithm"
   ]
  },
  {
   "cell_type": "markdown",
   "metadata": {},
   "source": [
    "Review\n",
    "Final Exam (Counting and Recurrence 30%, Graph Theory 70%)\n",
    "\n",
    "1. Counting\n",
    "2. Recurrence Relations\n",
    "3. Graph Theory"
   ]
  },
  {
   "cell_type": "code",
   "execution_count": null,
   "metadata": {},
   "outputs": [],
   "source": []
  }
 ],
 "metadata": {
  "kernelspec": {
   "display_name": "Python 3",
   "language": "python",
   "name": "python3"
  },
  "language_info": {
   "codemirror_mode": {
    "name": "ipython",
    "version": 3
   },
   "file_extension": ".py",
   "mimetype": "text/x-python",
   "name": "python",
   "nbconvert_exporter": "python",
   "pygments_lexer": "ipython3",
   "version": "3.7.0"
  }
 },
 "nbformat": 4,
 "nbformat_minor": 2
}
